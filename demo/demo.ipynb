{
 "cells": [
  {
   "cell_type": "code",
   "execution_count": 1,
   "metadata": {},
   "outputs": [],
   "source": [
    "from misc import pretty_print\n",
    "import hko"
   ]
  },
  {
   "cell_type": "code",
   "execution_count": 2,
   "metadata": {},
   "outputs": [
    {
     "name": "stdout",
     "output_type": "stream",
     "text": [
      "{   'result': {   'date': u'20180210',\n",
      "                  'moonrise': u'0229',\n",
      "                  'moonset': u'1347',\n",
      "                  'sunrise': u'0658',\n",
      "                  'sunset': u'1817'},\n",
      "    'status': 1}\n"
     ]
    }
   ],
   "source": [
    "pretty_print(hko.astro())"
   ]
  },
  {
   "cell_type": "code",
   "execution_count": 3,
   "metadata": {},
   "outputs": [
    {
     "name": "stdout",
     "output_type": "stream",
     "text": [
      "{   'result': [   {   u'filename': u'fb_20180205_uc.htm',\n",
      "                      u'publishdate': u'20180205',\n",
      "                      u'thumbnail': u'20180205_fb_thumbnail-178x93.jpg',\n",
      "                      u'title': u'\\u9ede\\u89e3\\u51cd\\u5497\\u5481\\u591a\\u65e5?'},\n",
      "                  {   u'filename': u'fb_20180130_uc.htm',\n",
      "                      u'publishdate': u'20180130',\n",
      "                      u'thumbnail': u'20180130_fb_thumbnail-178x93.jpg',\n",
      "                      u'title': u'\\u5bd2\\u5929\\u71b1\\u8840'},\n",
      "                  {   u'filename': u'fb_20180125_uc.htm',\n",
      "                      u'publishdate': u'20180125',\n",
      "                      u'thumbnail': u'20180125_fb_thumbnail-178x93.jpg',\n",
      "                      u'title': u'\\u6500\\u5c71\\u6d89\\u6c34\\u8ac7\\u6c23\\u8c61 \\uff0d \\u51fa\\u9580\\u7747\\u300c\\u98a8\\u6c34\\u300d\\uff1f'},\n",
      "                  {   u'filename': u'fb_20180115_uc.htm',\n",
      "                      u'publishdate': u'20180115',\n",
      "                      u'thumbnail': u'20180115_fb_thumbnail-178x93\n",
      "...\n"
     ]
    }
   ],
   "source": [
    "pretty_print(hko.blog())"
   ]
  },
  {
   "cell_type": "code",
   "execution_count": 4,
   "metadata": {},
   "outputs": [
    {
     "name": "stdout",
     "output_type": "stream",
     "text": [
      "{   'result': {   u'Earthquake': {   u'EventGroup': {   u'Event': [   {   u'City': u'Ishigakijima, Japan',\n",
      "                                                                          u'Dir': u'east-southeast',\n",
      "                                                                          u'Dist': u'250',\n",
      "                                                                          u'EventId': u'A1501907',\n",
      "                                                                          u'EventVer': u'1',\n",
      "                                                                          u'HKDir': u'east',\n",
      "                                                                          u'HKDist': u'1280',\n",
      "                                                                          u'HKTDate': u'20180111',\n",
      "                                                                          u'HKTTime': u'0844',\n",
      "                                                                          u'Intensity': None,\n",
      "...\n"
     ]
    }
   ],
   "source": [
    "pretty_print(hko.earthquake('EN'))"
   ]
  },
  {
   "cell_type": "code",
   "execution_count": 5,
   "metadata": {},
   "outputs": [
    {
     "name": "stdout",
     "output_type": "stream",
     "text": [
      "{   'place': u'\\u9999\\u6e2f',\n",
      "    'result': {   u'Rainfall': {   u'GridMapping': u'RF_ANAL[0][8][0]',\n",
      "                                   u'ObsTime': u'201802101715',\n",
      "                                   u'Value': u'0'},\n",
      "                  u'RegionalWeather': {   u'DisplayTime': u'2018/02/10 17:30',\n",
      "                                          u'Grid': u'0109',\n",
      "                                          u'ObsTime': u'201802101730',\n",
      "                                          u'RH': {   u'Station': u'HKA',\n",
      "                                                     u'Valid': True,\n",
      "                                                     u'Value': u'70'},\n",
      "                                          u'Temp': {   u'DefaultStation': u'HKA',\n",
      "                                                       u'MaxTemp': u'22.4',\n",
      "                                                       u'MinTemp': u'15.5',\n",
      "                                                       u'ModelMaxTemperature': u'22',\n",
      "...\n"
     ]
    }
   ],
   "source": [
    "pretty_print(hko.local_weather(22.352493, 113.8474984))"
   ]
  },
  {
   "cell_type": "code",
   "execution_count": 6,
   "metadata": {},
   "outputs": [
    {
     "name": "stdout",
     "output_type": "stream",
     "text": [
      "{   'result': {   u'converted_lunar_day': u'25',\n",
      "                  u'gregorian_date': u'20180210',\n",
      "                  u'gregorian_input_date_format': u'yyyyMMdd',\n",
      "                  u'lunar_date': u'\\u4e01\\u9149, \\u96de\\u5e74\\u5341\\u4e8c\\u6708\\u5eff\\u4e94\\u65e5',\n",
      "                  u'update_datetime': u'201802100904',\n",
      "                  u'update_datetime_date_format': u'yyyyMMddHHmm'},\n",
      "    'status': 1}\n"
     ]
    }
   ],
   "source": [
    "pretty_print(hko.lunar_date())"
   ]
  },
  {
   "cell_type": "code",
   "execution_count": 7,
   "metadata": {},
   "outputs": [
    {
     "name": "stdout",
     "output_type": "stream",
     "text": [
      "{   'result': {   'Africa': [   {   'maxtemp': u'25',\n",
      "                                    'mintemp': u'16',\n",
      "                                    'photo': u'pic14.gif',\n",
      "                                    'place': u'Cairo',\n",
      "                                    'status': u'Mist'},\n",
      "                                {   'maxtemp': u'22',\n",
      "                                    'mintemp': u'16',\n",
      "                                    'photo': u'pic03.gif',\n",
      "                                    'place': u'Cape Town',\n",
      "                                    'status': u'Showers'},\n",
      "                                {   'maxtemp': u'27',\n",
      "                                    'mintemp': u'16',\n",
      "                                    'photo': u'pic06.gif',\n",
      "                                    'place': u'Johannesburg',\n",
      "                                    'status': u'Thunderstorms'}],\n",
      "                  'Asia': [   {   'maxtemp': u'30',\n",
      "                                  'mintemp': u'24',\n",
      "                                  'pho\n",
      "...\n"
     ]
    }
   ],
   "source": [
    "pretty_print(hko.major_city_forecast('EN'))"
   ]
  },
  {
   "cell_type": "code",
   "execution_count": 8,
   "metadata": {},
   "outputs": [
    {
     "name": "stdout",
     "output_type": "stream",
     "text": [
      "{   'result': {   u'bulletin_datetime': u'201802100900',\n",
      "                  u'forecast_datetime': u'201802100100',\n",
      "                  u'gale_warning_area': u'Taiwan Strait, Bashi and Balintang.',\n",
      "                  u'general_situation': u'AN EASTERLY AIRSTREAM IS AFFECTING THE FORECAST AREAS. THE NORTHEAST MONSOON IS EXPECTED TO AFFECT THE FORECAST AREAS LATER.',\n",
      "                  u'hurricane_warning_area': u'',\n",
      "                  u'location_detail': [   {   u'area_boundary': u'113.5732153,22.11312904 113.882333,22.467 113.932417,22.532806 114.082028,22.52 113.920278,22.369861 114.109167,22.372056 114.297528,22.260444 114.252056,22.355806 114.389139,22.366222 114.400389,22.436667 114.319944,22.481278 114.190806,22.380417 114.1675,22.455389 114.335361,22.506639 114.20875,22.5375 114.394972,22.615444 114.4975,22.452083 114.491222,22.563306 114.493278,22.647889 114.51875,22.709972 114.5898065,22.73609689 114.5961813,22.72778901 114.6024102,22.71937115 114.6084912,22.71084586 114.6144225,22.70\n",
      "...\n"
     ]
    }
   ],
   "source": [
    "pretty_print(hko.marine_forecast('EN'))"
   ]
  },
  {
   "cell_type": "code",
   "execution_count": 9,
   "metadata": {},
   "outputs": [
    {
     "name": "stdout",
     "output_type": "stream",
     "text": [
      "{   'result': {   '0-30': {   'from_time': u'201802101730',\n",
      "                              'to_time': u'201802101800',\n",
      "                              'value': u'0.0'},\n",
      "                  '30-60': {   'from_time': u'201802101800',\n",
      "                               'to_time': u'201802101830',\n",
      "                               'value': u'0.0'},\n",
      "                  '60-90': {   'from_time': u'201802101830',\n",
      "                               'to_time': u'201802101900',\n",
      "                               'value': u'0.0'},\n",
      "                  '90-120': {   'from_time': u'201802101900',\n",
      "                                'to_time': u'201802101930',\n",
      "                                'value': u'0.0'},\n",
      "                  'description_en': u'There will be insignificant rain or no rain',\n",
      "                  'description_sc': u'\\u96e8\\u91cf\\u8f7b\\u5fae\\u6216\\u65e0\\u96e8\\u3002',\n",
      "                  'description_tc': u'\\u96e8\\u91cf\\u8f15\\u5fae\\u6216\\u7121\\u96e8\\u3002'},\n",
      "    'status': 1}\n"
     ]
    }
   ],
   "source": [
    "pretty_print(hko.rainfall_nowcast(22.352493, 113.8474984))"
   ]
  },
  {
   "cell_type": "code",
   "execution_count": 10,
   "metadata": {},
   "outputs": [
    {
     "name": "stdout",
     "output_type": "stream",
     "text": [
      "{   'result': {   u'BHD': {   u'BulletinTime': u'201802101730',\n",
      "                              u'Day0': {   u'ForecastMaxRh': u'NIL',\n",
      "                                           u'ForecastMaxRhTime': u'NIL',\n",
      "                                           u'ForecastMaxTemperature': u'NIL',\n",
      "                                           u'ForecastMaxTemperatureTime': u'NIL',\n",
      "                                           u'ForecastMaxTemperature_AroundtoOdd': u'NIL',\n",
      "                                           u'ForecastMinRh': u'NIL',\n",
      "                                           u'ForecastMinRhTime': u'NIL',\n",
      "                                           u'ForecastMinTemperature': u'NIL',\n",
      "                                           u'ForecastMinTemperatureTime': u'NIL',\n",
      "                                           u'ForecastMinTemperature_AroundtoOdd': u'NIL'},\n",
      "                              u'Day1': {   u'ForecastMaxRh': u'NIL',\n",
      "                                           u'ForecastMaxRhTime': u'NIL',\n",
      "...\n"
     ]
    }
   ],
   "source": [
    "pretty_print(hko.regional_weather())"
   ]
  },
  {
   "cell_type": "code",
   "execution_count": 11,
   "metadata": {},
   "outputs": [
    {
     "name": "stdout",
     "output_type": "stream",
     "text": [
      "{   'result': {   u'bulletin_datetime': u'201802101630',\n",
      "                  u'forecast_detail': [   {   u'forecast_date': u'20180211',\n",
      "                                              u'forecast_day_of_week': 0,\n",
      "                                              u'max_rh': 75,\n",
      "                                              u'max_temp': 16,\n",
      "                                              u'min_rh': 50,\n",
      "                                              u'min_temp': 12,\n",
      "                                              u'wind_info': u'North force 4 to 5.',\n",
      "                                              u'wx_desc': u'Becoming cold and dry. Sunny intervals during the day.',\n",
      "                                              u'wx_icon': u'93'},\n",
      "                                          {   u'forecast_date': u'20180212',\n",
      "                                              u'forecast_day_of_week': 1,\n",
      "                                              u'max_rh': 75,\n",
      "                                              u'max_temp': 16,\n",
      "...\n"
     ]
    }
   ],
   "source": [
    "pretty_print(hko.serval_days_weather_forecast('EN'))"
   ]
  },
  {
   "cell_type": "code",
   "execution_count": 12,
   "metadata": {},
   "outputs": [
    {
     "name": "stdout",
     "output_type": "stream",
     "text": [
      "{   'result': {   u'bulletin_datetime': u'201802101630',\n",
      "                  u'fourty_eight_hours_outlook': u'North to northeasterly winds of force 6 to 7.',\n",
      "                  u'general_situation': u'A cold front over the northern part of Guangdong is moving southwards gradually. It is expected to reach the south China coastal waters overnight.\\n',\n",
      "                  u'location_detail': [   {   u'area_boundary': u'116.800000,23.200000 116.755778,23.342889 116.802083,23.420000 116.704556,23.498306 116.862528,23.414611 116.792889,23.467472 116.873694,23.467500 116.809611,23.499167 116.878778,23.549972 116.814556,23.551639 116.888722,23.559167 116.829556,23.559972 116.919972,23.659556 116.940806,23.610361 117.057472,23.649528 117.076639,23.542083 117.219583,23.619167 117.190833,23.683722 117.244111,23.604556 117.274556,23.779167 117.434139,23.755389 117.491250,23.827500 117.475833,23.906222 117.352472,23.948722 117.571278,23.904972 117.585028,23.715389 117.689083,24.053694 117.790444,24.0316\n",
      "...\n"
     ]
    }
   ],
   "source": [
    "pretty_print(hko.south_china_coastal_waters('EN'))"
   ]
  },
  {
   "cell_type": "code",
   "execution_count": 13,
   "metadata": {},
   "outputs": [
    {
     "name": "stdout",
     "output_type": "stream",
     "text": [
      "{   'result': {   'date': u'20180210',\n",
      "                  'high_tide_1': {   'time': u'0726', 'value': u'1.3'},\n",
      "                  'high_tide_2': {   'time': u'1758', 'value': u'1.9'},\n",
      "                  'low_tide_1': {   'time': u'0204', 'value': u'1.0'},\n",
      "                  'low_tide_2': {   'time': u'0959', 'value': u'1.2'}},\n",
      "    'status': 1}\n"
     ]
    }
   ],
   "source": [
    "pretty_print(hko.tide())"
   ]
  },
  {
   "cell_type": "code",
   "execution_count": 14,
   "metadata": {},
   "outputs": [
    {
     "name": "stdout",
     "output_type": "stream",
     "text": [
      "{   'result': {   'date': u'11 February (Sunday)',\n",
      "                  'intensity': u'Moderate',\n",
      "                  'max_uv_index': u'5'},\n",
      "    'status': 1}\n"
     ]
    }
   ],
   "source": [
    "pretty_print(hko.uv_index('EN'))"
   ]
  },
  {
   "cell_type": "code",
   "execution_count": 15,
   "metadata": {},
   "outputs": [
    {
     "name": "stdout",
     "output_type": "stream",
     "text": [
      "{   'result': {   u'WCOLD': {   u'ActionCode': u'ISSUE',\n",
      "                                u'BulletinDate': u'20180210',\n",
      "                                u'BulletinTime': u'1620',\n",
      "                                u'Code': u'WCOLD',\n",
      "                                u'ExpireDate': None,\n",
      "                                u'ExpireTime': None,\n",
      "                                u'Icon': u'cold.gif',\n",
      "                                u'InForce': 1,\n",
      "                                u'IssueDate': u'20180210',\n",
      "                                u'IssueTime': u'1620',\n",
      "                                u'Name': u'Cold Weather Warning',\n",
      "                                u'Type': None},\n",
      "                  u'WFIRE': {   u'ActionCode': None,\n",
      "                                u'BulletinDate': u'20180208',\n",
      "                                u'BulletinTime': u'1900',\n",
      "                                u'Code': None,\n",
      "                                u'ExpireDate': None,\n",
      "                                u'ExpireTime': None,\n",
      "...\n"
     ]
    }
   ],
   "source": [
    "pretty_print(hko.weather_warning('EN'))"
   ]
  }
 ],
 "metadata": {
  "kernelspec": {
   "display_name": "Python 2",
   "language": "python",
   "name": "python2"
  },
  "language_info": {
   "codemirror_mode": {
    "name": "ipython",
    "version": 2
   },
   "file_extension": ".py",
   "mimetype": "text/x-python",
   "name": "python",
   "nbconvert_exporter": "python",
   "pygments_lexer": "ipython2",
   "version": "2.7.13"
  }
 },
 "nbformat": 4,
 "nbformat_minor": 2
}
